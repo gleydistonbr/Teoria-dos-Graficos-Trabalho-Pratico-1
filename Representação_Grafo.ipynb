{
  "nbformat": 4,
  "nbformat_minor": 0,
  "metadata": {
    "colab": {
      "name": "Representação_Grafo.ipynb",
      "provenance": [],
      "collapsed_sections": [],
      "authorship_tag": "ABX9TyMqiVcG4KYM1+krCOr0TT3X",
      "include_colab_link": true
    },
    "kernelspec": {
      "name": "python3",
      "display_name": "Python 3"
    }
  },
  "cells": [
    {
      "cell_type": "markdown",
      "metadata": {
        "id": "view-in-github",
        "colab_type": "text"
      },
      "source": [
        "<a href=\"https://colab.research.google.com/github/gleydistonbr/Teoria-dos-Graficos-Trabalho-Pratico-1/blob/main/Representa%C3%A7%C3%A3o_Grafo.ipynb\" target=\"_parent\"><img src=\"https://colab.research.google.com/assets/colab-badge.svg\" alt=\"Open In Colab\"/></a>"
      ]
    },
    {
      "cell_type": "code",
      "metadata": {
        "id": "jbQQ701wVBMQ"
      },
      "source": [
        "import networkx as nx\r\n",
        "\r\n",
        "G = nx.Graph() \r\n",
        "\r\n",
        "V = ['a','b','c','d','e','f','g']\r\n",
        "A = [('a','b',{'weight': 1}),('a','c',{'weight': 2}), ('b','c',{'weight': 1}),\r\n",
        "     ('b','e',{'weight': 3}),('c','f', {'weight': 8}), ('e','f',{'weight': 2}),\r\n",
        "     ('f','g',{'weight': 4}), ('d','g',{'weight': 2}),('c','d',{'weight': 6})]\r\n",
        "\r\n",
        "G.add_nodes_from(V)\r\n",
        "G.add_edges_from(A)\r\n",
        "\r\n"
      ],
      "execution_count": null,
      "outputs": []
    },
    {
      "cell_type": "code",
      "metadata": {
        "id": "zgOINbbMmdFg"
      },
      "source": [
        "import matplotlib.pyplot as plt\r\n",
        "\r\n",
        "pesos = nx.get_edge_attributes(G,'weight')\r\n",
        "\r\n",
        "cor_V = ['yellow' for node in G.nodes()]\r\n",
        "cor_A = ['green' for edge in G.edges()]\r\n",
        "\r\n",
        "\r\n",
        "\r\n",
        "pos = nx.spring_layout(G)\r\n",
        "\r\n",
        "nx.draw_networkx (G,pos,node_color = cor_V, node_size=400)\r\n",
        "\r\n",
        "nx.draw_networkx_labels (G, pos, node.color = cor_V)\r\n",
        "\r\n",
        "nx.draw_networkx_edges (G, pos , edge_color = cor_A)\r\n",
        "\r\n",
        "nx.draw_networkx_edges_labels(G,pos,edge_color= cor_A,edge_labels=pesos)\r\n",
        "\r\n",
        "plt.show()\r\n"
      ],
      "execution_count": null,
      "outputs": []
    },
    {
      "cell_type": "code",
      "metadata": {
        "colab": {
          "base_uri": "https://localhost:8080/",
          "height": 266
        },
        "id": "i0VnwYeR7au7",
        "outputId": "2230f078-e51d-475c-b867-93b224b7f844"
      },
      "source": [
        "import networkx as nx \r\n",
        "import matplotlib.pyplot as plt\r\n",
        "\r\n",
        "G= nx.Graph()\r\n",
        "\r\n",
        "G.add_node('v1')\r\n",
        "G.add_node('v2')\r\n",
        "G.add_node('v3')\r\n",
        "G.add_node('v4')\r\n",
        "\r\n",
        "\r\n",
        "G.add_edge('v1','v2')\r\n",
        "G.add_edge('v2', 'v3')\r\n",
        "G.add_edge('v3','v4')\r\n",
        "G.add_edge('v4','v1')\r\n",
        "G.add_edge('v4','v2')\r\n",
        "\r\n",
        "plt.figure(2)\r\n",
        "\r\n",
        "nx.draw_networkx(G, pos = nx.spring_layout(G), with_labels=True)\r\n",
        "plt.show"
      ],
      "execution_count": null,
      "outputs": [
        {
          "output_type": "execute_result",
          "data": {
            "text/plain": [
              "<function matplotlib.pyplot.show>"
            ]
          },
          "metadata": {
            "tags": []
          },
          "execution_count": 46
        },
        {
          "output_type": "display_data",
          "data": {
            "image/png": "[encoded data removed]",
            "text/plain": [
              "<Figure size 432x288 with 1 Axes>"
            ]
          },
          "metadata": {
            "tags": []
          }
        }
      ]
    }
  ]
}