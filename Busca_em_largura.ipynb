{
  "nbformat": 4,
  "nbformat_minor": 0,
  "metadata": {
    "colab": {
      "name": "Busca em largura",
      "provenance": [],
      "collapsed_sections": [],
      "authorship_tag": "ABX9TyMuDUakBvIaFz49nXN6gx46",
      "include_colab_link": true
    },
    "kernelspec": {
      "name": "python3",
      "display_name": "Python 3"
    },
    "language_info": {
      "name": "python"
    }
  },
  "cells": [
    {
      "cell_type": "markdown",
      "metadata": {
        "id": "view-in-github",
        "colab_type": "text"
      },
      "source": [
        "<a href=\"https://colab.research.google.com/github/gleydistonbr/Teoria-dos-Graficos-Trabalho-Pratico-1/blob/master/Busca_em_largura.ipynb\" target=\"_parent\"><img src=\"https://colab.research.google.com/assets/colab-badge.svg\" alt=\"Open In Colab\"/></a>"
      ]
    },
    {
      "cell_type": "code",
      "metadata": {
        "id": "48LCCLPzMes5",
        "colab": {
          "base_uri": "https://localhost:8080/",
          "height": 231
        },
        "outputId": "a8071646-b40e-482f-97fb-f349711ddf1d"
      },
      "source": [
        "#Algoritimo de busca em largura\n",
        "\n",
        "# Importanto biblioteca\n",
        "from collections import defaultdict\n",
        "\n",
        "# Classe para criação do grafo\n",
        "class Graph:\n",
        "\n",
        "  # Função para criar a lista\n",
        "  def _init_(self):\n",
        "\n",
        "  # Defaultdict\n",
        "    self.graph = defaultdict(list)\n",
        "\n",
        "  # Adiciona os vértices no grafo\n",
        "def addEdge(self,u,v):\n",
        "  self.graph[u].append(v)\n",
        "\n",
        "    #Função para imprimir o grafo\n",
        "def grafo(self, s):\n",
        "\n",
        "      #marcar todos os vértices como não visitado\n",
        "      visited = [false] * (len(self.graph))\n",
        "\n",
        "      #Criando uma fila vazia\n",
        "      queue = []\n",
        "\n",
        "      # nó de origem e marca como visitado e insere na fila\n",
        "      queue.append(s)\n",
        "      visited[s] = True\n",
        "\n",
        "      # Enquanto a fila for vazia\n",
        "      while queue:\n",
        "\n",
        "        #retirar o último vértice inserido na fila\n",
        "        s = queue.pop(0)\n",
        "        print(s,\" \")\n",
        "\n",
        "        #Todos os vértices adjacentes\n",
        "        for i in self.graph[s]:\n",
        "          print(visited[i])\n",
        "          if visited[i] == False:\n",
        "            queue.append(i)\n",
        "\n",
        "# Criando o grafo\n",
        "g = Graph()\n",
        "g.addEdge(0, 1)\n",
        "g.addEdge(0, 2)\n",
        "g.addEdge(1, 2)\n",
        "g.addEdge(2, 0)\n",
        "g.addEdge(2, 3)\n",
        "g.addEdge(3, 3)\n",
        "\n",
        "print(\"Executando pelo vértice 0\")\n",
        "g.grafo(0)\n",
        "\n"
      ],
      "execution_count": null,
      "outputs": [
        {
          "output_type": "error",
          "ename": "AttributeError",
          "evalue": "ignored",
          "traceback": [
            "\u001b[0;31m---------------------------------------------------------------------------\u001b[0m",
            "\u001b[0;31mAttributeError\u001b[0m                            Traceback (most recent call last)",
            "\u001b[0;32m<ipython-input-12-5763e4673586>\u001b[0m in \u001b[0;36m<module>\u001b[0;34m()\u001b[0m\n\u001b[1;32m     45\u001b[0m \u001b[0;31m# Criando o grafo\u001b[0m\u001b[0;34m\u001b[0m\u001b[0;34m\u001b[0m\u001b[0;34m\u001b[0m\u001b[0m\n\u001b[1;32m     46\u001b[0m \u001b[0mg\u001b[0m \u001b[0;34m=\u001b[0m \u001b[0mGraph\u001b[0m\u001b[0;34m(\u001b[0m\u001b[0;34m)\u001b[0m\u001b[0;34m\u001b[0m\u001b[0;34m\u001b[0m\u001b[0m\n\u001b[0;32m---> 47\u001b[0;31m \u001b[0mg\u001b[0m\u001b[0;34m.\u001b[0m\u001b[0maddEdge\u001b[0m\u001b[0;34m(\u001b[0m\u001b[0;36m0\u001b[0m\u001b[0;34m,\u001b[0m \u001b[0;36m1\u001b[0m\u001b[0;34m)\u001b[0m\u001b[0;34m\u001b[0m\u001b[0;34m\u001b[0m\u001b[0m\n\u001b[0m\u001b[1;32m     48\u001b[0m \u001b[0mg\u001b[0m\u001b[0;34m.\u001b[0m\u001b[0maddEdge\u001b[0m\u001b[0;34m(\u001b[0m\u001b[0;36m0\u001b[0m\u001b[0;34m,\u001b[0m \u001b[0;36m2\u001b[0m\u001b[0;34m)\u001b[0m\u001b[0;34m\u001b[0m\u001b[0;34m\u001b[0m\u001b[0m\n\u001b[1;32m     49\u001b[0m \u001b[0mg\u001b[0m\u001b[0;34m.\u001b[0m\u001b[0maddEdge\u001b[0m\u001b[0;34m(\u001b[0m\u001b[0;36m1\u001b[0m\u001b[0;34m,\u001b[0m \u001b[0;36m2\u001b[0m\u001b[0;34m)\u001b[0m\u001b[0;34m\u001b[0m\u001b[0;34m\u001b[0m\u001b[0m\n",
            "\u001b[0;31mAttributeError\u001b[0m: 'Graph' object has no attribute 'addEdge'"
          ]
        }
      ]
    }
  ]
}