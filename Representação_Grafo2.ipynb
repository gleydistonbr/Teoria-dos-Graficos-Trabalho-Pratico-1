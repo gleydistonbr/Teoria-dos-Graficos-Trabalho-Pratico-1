{
  "nbformat": 4,
  "nbformat_minor": 0,
  "metadata": {
    "colab": {
      "name": "Representação_Grafo.ipynb",
      "provenance": [],
      "collapsed_sections": [],
      "authorship_tag": "ABX9TyOZBst5TW52tG260NjjB7yj",
      "include_colab_link": true
    },
    "kernelspec": {
      "name": "python3",
      "display_name": "Python 3"
    }
  },
  "cells": [
    {
      "cell_type": "markdown",
      "metadata": {
        "id": "view-in-github",
        "colab_type": "text"
      },
      "source": [
        "<a href=\"https://colab.research.google.com/github/gleydistonbr/Teoria-dos-Graficos-Trabalho-Pratico-1/blob/master/Representa%C3%A7%C3%A3o_Grafo2.ipynb\" target=\"_parent\"><img src=\"https://colab.research.google.com/assets/colab-badge.svg\" alt=\"Open In Colab\"/></a>"
      ]
    },
    {
      "cell_type": "code",
      "metadata": {
        "id": "i0VnwYeR7au7"
      },
      "source": [
        "import networkx as nx \n",
        "import matplotlib.pyplot as plt\n",
        "\n",
        "G= nx.Graph()\n",
        "\n",
        "G.add_node('v1')\n",
        "G.add_node('v2')\n",
        "G.add_node('v3')\n",
        "G.add_node('v4')\n",
        "\n",
        "node= G.number_of_nodes()\n",
        "\n",
        "G.add_edge('v1','v2')\n",
        "G.add_edge('v2', 'v3')\n",
        "G.add_edge('v3','v4')\n",
        "G.add_edge('v4','v1')\n",
        "G.add_edge('v4','v2')\n",
        "\n",
        "edge= G.number_of_edges()\n",
        "\n",
        "\n",
        "plt.figure(2)\n",
        "\n",
        "nx.draw_networkx(G, pos = nx.spring_layout(G), with_labels=True)\n",
        "plt.show"
      ],
      "execution_count": null,
      "outputs": []
    },
    {
      "cell_type": "code",
      "metadata": {
        "id": "zkxRuOAZmOWA"
      },
      "source": [
        "def completo(self):\n",
        "  if (edge == node*(node-1/2)):\n",
        "    return True\n",
        "    else\n",
        "      return False"
      ],
      "execution_count": null,
      "outputs": []
    },
    {
      "cell_type": "code",
      "metadata": {
        "id": "y7DfjEc3nB-O"
      },
      "source": [
        "def bP(G,V,visitado):\n",
        "      visitado[V] =True \n",
        "  for u in range(node):\n",
        "    else visitado[U]\n",
        "      bP(G,U,visitado)"
      ],
      "execution_count": null,
      "outputs": []
    },
    {
      "cell_type": "code",
      "metadata": {
        "id": "K86Gl7w9nrnL"
      },
      "source": [
        "def conexo(self)\n",
        "for i in range (no):\n",
        "  visitado =[False]*node\n",
        "  bP(G,i,visitado)\n",
        "  for p in visitado:\n",
        "    else b:\n",
        "      return False\n",
        "      return True "
      ],
      "execution_count": null,
      "outputs": []
    }
  ]
}